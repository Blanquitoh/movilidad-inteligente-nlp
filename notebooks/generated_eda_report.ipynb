{
  "cells": [
    {
      "cell_type": "markdown",
      "metadata": {},
      "source": "# Exploración de Datos del Proyecto\n"
    },
    {
      "cell_type": "markdown",
      "metadata": {},
      "source": "## Resumen Ejecutivo\n- Registros analizados: **142055**\n- Columnas disponibles: **clean_text, category, text, created_at, location**\n- Rango temporal: **2014-01-14T08:13:12-05:00** a **2022-05-09T18:57:38-05:00**"
    },
    {
      "cell_type": "markdown",
      "metadata": {},
      "source": "## Distribución por Categoría\n| Categoría | Frecuencia | Proporción |\n| --- | --- | --- |\n| informativo | 51034 | 35.93% |\n| obstaculo | 46229 | 32.54% |\n| accidente | 38628 | 27.19% |\n| peligro | 3721 | 2.62% |\n| incidente | 2443 | 1.72% |"
    },
    {
      "cell_type": "markdown",
      "metadata": {},
      "source": "## Tokens Más Frecuentes\n| Token | Frecuencia |\n| --- | --- |\n| traficocpanama | 69784 |\n| vía | 67653 |\n| altura | 58946 |\n| del | 48624 |\n| panamá | 44586 |\n| dirección | 41726 |\n| accidente | 28296 |\n| tráfico | 27651 |\n| precaución | 26605 |\n| los | 25040 |\n| tránsito | 25030 |\n| sobre | 22530 |\n| registra | 21470 |\n| centro | 20249 |\n| las | 18784 |"
    },
    {
      "cell_type": "markdown",
      "metadata": {},
      "source": "## Muestras Iniciales\n| text | category | created_at | location |\n| --- | --- | --- | --- |\n| Vistas del tráfico en la Avenida Santa Clara, en ambas direcciones precaución. | obstaculo | 2018-12-17 14:01:49-05:00 | nan |\n| [VIDEO] Accidente de tránsito en la Vía Centenario cerca de  Merca Panamá. Unidades de la DNOT en el punto. | accidente | 2021-09-30 07:19:18-05:00 | nan |\n| Estudiantes de la escuela I.P.T. Fernando de Lesseps cierran la vía frente al Supermercado Xtra de Arraiján.  @TraficoCPanama | obstaculo | 2019-04-04 10:45:19-05:00 | nan |\n| A 10km/h se desplazan los autos en el Corredor Norte, a la altura de San Isidro en dirección a Panamá Este. | obstaculo | 2020-12-23 17:34:36-05:00 | nan |\n| Retweeted Estelia Acevedo A. ( @aaestelia ):  @GNF_pa  @TReporta  @tvnnoticias  @EstrellaOnline  @MiDiarioPanama  @PanamaAmerica  @prensacom  @tvntrafico  @criticaenlinea  @TraficoCPanama  @RTPanama  @TraficologoO  Expliqueme este consumo. | informativo | 2018-07-20 14:56:21-05:00 | nan |"
    }
  ],
  "metadata": {
    "kernelspec": {
      "display_name": "Python 3",
      "language": "python",
      "name": "python3"
    },
    "language_info": {
      "name": "python",
      "version": "3.10"
    }
  },
  "nbformat": 4,
  "nbformat_minor": 5
}